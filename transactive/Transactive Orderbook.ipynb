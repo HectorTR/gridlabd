{
 "cells": [
  {
   "cell_type": "markdown",
   "metadata": {},
   "source": [
    "A Transactive Energy system may use an Orderbook to implemente a continuous market rather than a discrete-time double auction.  In an Orderbook, two lists of limit orders are maintained and market orders are filled in real-time.\n",
    "\n",
    "Limit orders are used to inform the market of the availability of a resource to supply (sell or \"ask\" order) or consume (buy or \"bid\" order) a specified quantity of service at a specified price for a specified duration.  \n",
    "\n",
    "Market orders are used to obtain from the market an immediate commitment of a resource to supply or consume at the best price possible at the present time.\n",
    "\n",
    "This document describes the types of orders and the market mechanisms needed to implement a Transactive Orderbook."
   ]
  },
  {
   "cell_type": "markdown",
   "metadata": {},
   "source": [
    "# Market Units\n",
    "\n",
    "Each Orderbook tracks a product or service specified as a \"unit\".  In this document, we will use the unit of megaWatt (denoted MW) in the examples.  However, other units may also be supported. Time duration units can also be specified, and this document will use the time unit \"h\" in the examples. The currency unit used is \"$\"."
   ]
  },
  {
   "cell_type": "markdown",
   "metadata": {},
   "source": [
    "# Order Parameters\n",
    "Orders have a number of parameters associated that are used to characterize them."
   ]
  },
  {
   "cell_type": "markdown",
   "metadata": {},
   "source": [
    "## Quantity\n",
    "The quantity associated with a particular order is always given in the Orderbook's unit. If the quantity is divisible, the order must indicate that."
   ]
  },
  {
   "cell_type": "markdown",
   "metadata": {},
   "source": [
    "## Duration\n",
    "Every order has duration associated with it over which the order is expected to be filled. If the duration is divisible, then the order must indicate that. \n",
    "\n",
    "The total amount traded is always for the order quantity multiplied by the order duration."
   ]
  },
  {
   "cell_type": "markdown",
   "metadata": {},
   "source": [
    "## Price\n",
    "The price associated with an order is always given per unit quantity per unit time."
   ]
  },
  {
   "cell_type": "markdown",
   "metadata": {},
   "source": [
    "## Divisibility\n",
    "Order may be filled using multiple orders. However, if a limit order cannot be filled immediately, a divisible order may be partly filled and the remainder of the order placed in the order book to be filled at the first opportunity.  To specify that an order must be filled in its entirety when it initially filled, it must be specified as indivisible by setting the divisibility flag to `False`.  By default sell orders are divisible, and buy orders are indivisible. Indivisible market order must be fully filled immediately in quantity but can be filled sequentially in time by different sell orders provided there are not gaps in filling the order in time."
   ]
  },
  {
   "cell_type": "markdown",
   "metadata": {},
   "source": [
    "## Amount\n",
    "The order amount is the product of the quantity filled multiplied by the duration over which it has been filled. Any portion of the quantity or duration that remains unfilled is left in the quantity and duration. Note that the unfilled portion of an order is by definition the original quantity times the original duration less the amount. Thus quantity times duration may not fully reflect the remaining amount required if the order is divisible."
   ]
  },
  {
   "cell_type": "markdown",
   "metadata": {},
   "source": [
    "## Cost\n",
    "The cost of an order is computed when the order is filled. The order cost is the total traded amount multiplied by the trade price.  The trade price is the price that clears the corresponding limit order, which may be different from the corresponding order price. A positive amount is associated with a sell order at a positive price, and negative amount is associated with a buy order at a positive price.  Note that negative prices are permitted, but represent a market pathology associated with insufficient resources."
   ]
  },
  {
   "cell_type": "markdown",
   "metadata": {},
   "source": [
    "# Limit Orders\n",
    "\n",
    "There are two types of limit orders in an Orderbook system: Buy Limit and Sell Limit."
   ]
  },
  {
   "cell_type": "markdown",
   "metadata": {},
   "source": [
    "## Buy Limit\n",
    "A Buy Limit is an order to buy only if one or more sellers can be found who are willing to deliver the given amount (the quantity multipled by the duration) at the given price. A buy limit order remains in the book until it is canceled or it expires."
   ]
  },
  {
   "cell_type": "markdown",
   "metadata": {},
   "source": [
    "## Sell Limit\n",
    "A Sell Limit is an order to sell only if one or more buyers can be found who are willing to consume the given amount (quantity multiplied by duration) at the given price. A sell limit order remains in the book until it is canceled or it expires."
   ]
  },
  {
   "cell_type": "markdown",
   "metadata": {},
   "source": [
    "# Market Orders\n",
    "There are two types of market orders in an Orderbook system: Buy Market and Sell Market."
   ]
  },
  {
   "cell_type": "markdown",
   "metadata": {},
   "source": [
    "## Buy Market\n",
    "A Buy Market is an order to buy a given amount immediately at the best available price. If the order cannot be filled immediately, the order is canceled."
   ]
  },
  {
   "cell_type": "markdown",
   "metadata": {},
   "source": [
    "## Sell Market\n",
    "A Sell Market is an order sell a given amount immediately at the best available price.  If the order cannot be filled immediately, the order is canceled."
   ]
  },
  {
   "cell_type": "markdown",
   "metadata": {},
   "source": [
    "# Filling Orders\n",
    "Orders are filled when they are received, if possible. The disposition of orders that cannot be filled immediately depends on the type of order; a limit order is placed on the books while a market order is cancelled.\n",
    "\n",
    "When an order is filled, the quantity, duration, price, and value are set and the order status data is returned to the agent. Depending on the order parameters, the order may not be filled completely, or the order may be canceled."
   ]
  },
  {
   "cell_type": "markdown",
   "metadata": {},
   "source": [
    "## Filling Limit Orders\n",
    "A limit order is filled immediately if a matching limit order in the other book can be found.  For example, if a Sell Limit is received for a price less than or equal to the highest Buy Limit order, then the Sell Limit order is filled with the corresponding Buy Limit order.  If the order quantity is divisible, then this process is continued until the Sell Limit order is completely filled or there are no remaining Buy Limit orders that match at the given price. The balance of the limit order is left on the books to be filled at a later date. If the order quantity is not divisible, then the order must be filled completely, otherwise it must be placed in the book to be filled later."
   ]
  },
  {
   "cell_type": "markdown",
   "metadata": {},
   "source": [
    "### Examples\n",
    "To run the python examples, you must load the `orderbook.py` module"
   ]
  },
  {
   "cell_type": "code",
   "execution_count": 1,
   "metadata": {
    "scrolled": true
   },
   "outputs": [],
   "source": [
    "import orderbook as ob"
   ]
  },
  {
   "cell_type": "markdown",
   "metadata": {},
   "source": [
    "This example creates one order of each type. Note that by default sell orders are divisible and buy orders are not divisible. Also note that until the order are submitted to a market, they have not defined unit, time, or currency."
   ]
  },
  {
   "cell_type": "code",
   "execution_count": 2,
   "metadata": {},
   "outputs": [
    {
     "name": "stdout",
     "output_type": "stream",
     "text": [
      "<order:0/BUYLIMIT INDIVISIBLE 10.0 at 10.0 for 1.0>\n",
      "<order:1/SELLLIMIT 10.0 at 10.0 for 1.0>\n",
      "<order:2/BUYMARKET INDIVISIBLE 5.0 for 1.0>\n",
      "<order:3/SELLMARKET 5.0 for 1.0>\n",
      "<order:4/CANCEL 1.0 for 1.0>\n"
     ]
    }
   ],
   "source": [
    "print(ob.order(order_type=\"BUYLIMIT\",quantity=10.0,price=10.0,duration=1.0))\n",
    "print(ob.order(order_type=\"SELLLIMIT\",quantity=10.0,price=10.0,duration=1.0))\n",
    "print(ob.order(order_type=\"BUYMARKET\",quantity=5.0, duration=1.0))\n",
    "print(ob.order(order_type=\"SELLMARKET\",quantity=5.0, duration=1.0))\n",
    "print(ob.order(order_type=\"CANCEL\",quantity=1.0,duration=1.0))"
   ]
  },
  {
   "cell_type": "markdown",
   "metadata": {},
   "source": [
    "This example builds buy and sell books and displays them visually.  The x-axis is the price, and the y-axis is the cumulative quantity."
   ]
  },
  {
   "cell_type": "code",
   "execution_count": 3,
   "metadata": {},
   "outputs": [
    {
     "name": "stdout",
     "output_type": "stream",
     "text": [
      "{\"buy\": [{\"quantity\": 1.5, \"duration\": 1.0, \"price\": 8.0, \"id\": 8, \"ordertype\": \"BUYLIMIT\", \"amount\": 0.0, \"value\": 0.0, \"divisible\": false}, {\"quantity\": 1.0, \"duration\": 1.0, \"price\": 5.0, \"id\": 9, \"ordertype\": \"BUYLIMIT\", \"amount\": 0.0, \"value\": 0.0, \"divisible\": false}, {\"quantity\": 2.5, \"duration\": 1.0, \"price\": 2.0, \"id\": 10, \"ordertype\": \"BUYLIMIT\", \"amount\": 0.0, \"value\": 0.0, \"divisible\": false}], \"sell\": [{\"quantity\": 2.0, \"duration\": 1.0, \"price\": 10.0, \"id\": 5, \"ordertype\": \"SELLLIMIT\", \"amount\": 0.0, \"value\": 0.0, \"divisible\": true}, {\"quantity\": 1.0, \"duration\": 1.0, \"price\": 15.0, \"id\": 6, \"ordertype\": \"SELLLIMIT\", \"amount\": 0.0, \"value\": 0.0, \"divisible\": true}, {\"quantity\": 0.5, \"duration\": 1.0, \"price\": 20.0, \"id\": 7, \"ordertype\": \"SELLLIMIT\", \"amount\": 0.0, \"value\": 0.0, \"divisible\": true}], \"unit\": \"MW\", \"time\": \"h\", \"currency\": \"$\", \"price\": \"$/MW.h\", \"using\": [], \"fees\": 0.0, \"settled\": []}\n"
     ]
    },
    {
     "data": {
      "image/png": "[encoded data removed]",
      "text/plain": [
       "<Figure size 432x288 with 1 Axes>"
      ]
     },
     "metadata": {
      "needs_background": "light"
     },
     "output_type": "display_data"
    }
   ],
   "source": [
    "market = ob.orderbook()\n",
    "market.ask(quantity=2.0, duration=1.0, price=10.0)\n",
    "market.ask(quantity=1.0, duration=1.0, price=15.0)\n",
    "market.ask(quantity=0.5, duration=1.0, price=20.0)\n",
    "market.bid(quantity=1.5, duration=1.0, price=8.0)\n",
    "market.bid(quantity=1.0, duration=1.0, price=5.0)\n",
    "market.bid(quantity=2.5, duration=1.0, price=2.0)\n",
    "print(market)\n",
    "graph = market.plot(using={\"grid\":\"\",\"legend\":\"['Sell Limit','Buy Limit']\"})"
   ]
  },
  {
   "cell_type": "markdown",
   "metadata": {},
   "source": [
    "The following adds a sell limit order that can be satisfied by the highest buy limit order."
   ]
  },
  {
   "cell_type": "code",
   "execution_count": 4,
   "metadata": {},
   "outputs": [
    {
     "name": "stdout",
     "output_type": "stream",
     "text": [
      "<order:11/SELLLIMIT FILLED 1.5MWh for 12.0$>\n",
      "{\"buy\": [{\"quantity\": 1.0, \"duration\": 1.0, \"price\": 5.0, \"id\": 9, \"ordertype\": \"BUYLIMIT\", \"amount\": 0.0, \"value\": 0.0, \"divisible\": false}, {\"quantity\": 2.5, \"duration\": 1.0, \"price\": 2.0, \"id\": 10, \"ordertype\": \"BUYLIMIT\", \"amount\": 0.0, \"value\": 0.0, \"divisible\": false}], \"sell\": [{\"quantity\": 2.0, \"duration\": 1.0, \"price\": 10.0, \"id\": 5, \"ordertype\": \"SELLLIMIT\", \"amount\": 0.0, \"value\": 0.0, \"divisible\": true}, {\"quantity\": 1.0, \"duration\": 1.0, \"price\": 15.0, \"id\": 6, \"ordertype\": \"SELLLIMIT\", \"amount\": 0.0, \"value\": 0.0, \"divisible\": true}, {\"quantity\": 0.5, \"duration\": 1.0, \"price\": 20.0, \"id\": 7, \"ordertype\": \"SELLLIMIT\", \"amount\": 0.0, \"value\": 0.0, \"divisible\": true}], \"unit\": \"MW\", \"time\": \"h\", \"currency\": \"$\", \"price\": \"$/MW.h\", \"using\": {\"grid\": \"\", \"legend\": \"['Sell Limit','Buy Limit']\"}, \"fees\": 0.0, \"settled\": [{\"quantity\": 0.0, \"duration\": 1.0, \"price\": 8.0, \"id\": 8, \"ordertype\": \"BUYLIMIT\", \"amount\": 1.5, \"value\": -10.5, \"divisible\": false}, {\"quantity\": 0.0, \"duration\": 1.0, \"price\": 7.0, \"id\": 11, \"ordertype\": \"SELLLIMIT\", \"amount\": 1.5, \"value\": 12.0, \"divisible\": true}]}\n"
     ]
    },
    {
     "data": {
      "text/plain": [
       "{'sell': [[<matplotlib.lines.Line2D at 0x1104485c0>]],\n",
       " 'buy': [[<matplotlib.lines.Line2D at 0x11038cf28>]],\n",
       " 'figure': <Figure size 432x288 with 1 Axes>,\n",
       " 'plot': <module 'matplotlib.pyplot' from '/usr/local/lib/python3.7/site-packages/matplotlib/pyplot.py'>}"
      ]
     },
     "execution_count": 4,
     "metadata": {},
     "output_type": "execute_result"
    },
    {
     "data": {
      "image/png": "[encoded data removed]",
      "text/plain": [
       "<Figure size 432x288 with 1 Axes>"
      ]
     },
     "metadata": {
      "needs_background": "light"
     },
     "output_type": "display_data"
    }
   ],
   "source": [
    "print(market.ask(quantity=1.5,duration=1.0,price=7.0))\n",
    "print(market)\n",
    "market.plot()"
   ]
  },
  {
   "cell_type": "code",
   "execution_count": 5,
   "metadata": {},
   "outputs": [
    {
     "name": "stdout",
     "output_type": "stream",
     "text": [
      "<order:12/BUYLIMIT FILLED 1.5MWh for -15.0$>\n",
      "{\"buy\": [{\"quantity\": 1.0, \"duration\": 1.0, \"price\": 5.0, \"id\": 9, \"ordertype\": \"BUYLIMIT\", \"amount\": 0.0, \"value\": 0.0, \"divisible\": false}, {\"quantity\": 2.5, \"duration\": 1.0, \"price\": 2.0, \"id\": 10, \"ordertype\": \"BUYLIMIT\", \"amount\": 0.0, \"value\": 0.0, \"divisible\": false}], \"sell\": [{\"quantity\": 0.5, \"duration\": 1.0, \"price\": 10.0, \"id\": 5, \"ordertype\": \"SELLLIMIT\", \"amount\": 1.5, \"value\": 16.5, \"divisible\": true}, {\"quantity\": 1.0, \"duration\": 1.0, \"price\": 15.0, \"id\": 6, \"ordertype\": \"SELLLIMIT\", \"amount\": 0.0, \"value\": 0.0, \"divisible\": true}, {\"quantity\": 0.5, \"duration\": 1.0, \"price\": 20.0, \"id\": 7, \"ordertype\": \"SELLLIMIT\", \"amount\": 0.0, \"value\": 0.0, \"divisible\": true}], \"unit\": \"MW\", \"time\": \"h\", \"currency\": \"$\", \"price\": \"$/MW.h\", \"using\": {\"grid\": \"\", \"legend\": \"['Sell Limit','Buy Limit']\"}, \"fees\": 0.0, \"settled\": [{\"quantity\": 0.0, \"duration\": 1.0, \"price\": 8.0, \"id\": 8, \"ordertype\": \"BUYLIMIT\", \"amount\": 1.5, \"value\": -10.5, \"divisible\": false}, {\"quantity\": 0.0, \"duration\": 1.0, \"price\": 7.0, \"id\": 11, \"ordertype\": \"SELLLIMIT\", \"amount\": 1.5, \"value\": 12.0, \"divisible\": true}, {\"quantity\": 0.0, \"duration\": 1.0, \"price\": 11.0, \"id\": 12, \"ordertype\": \"BUYLIMIT\", \"amount\": 1.5, \"value\": -15.0, \"divisible\": false}]}\n"
     ]
    },
    {
     "data": {
      "text/plain": [
       "{'sell': [[<matplotlib.lines.Line2D at 0x1104d7898>]],\n",
       " 'buy': [[<matplotlib.lines.Line2D at 0x1104b2e48>]],\n",
       " 'figure': <Figure size 432x288 with 1 Axes>,\n",
       " 'plot': <module 'matplotlib.pyplot' from '/usr/local/lib/python3.7/site-packages/matplotlib/pyplot.py'>}"
      ]
     },
     "execution_count": 5,
     "metadata": {},
     "output_type": "execute_result"
    },
    {
     "data": {
      "image/png": "[encoded data removed]",
      "text/plain": [
       "<Figure size 432x288 with 1 Axes>"
      ]
     },
     "metadata": {
      "needs_background": "light"
     },
     "output_type": "display_data"
    }
   ],
   "source": [
    "print(market.bid(quantity=1.5,duration=1.0,price=11.0))\n",
    "print(market)\n",
    "market.plot()"
   ]
  },
  {
   "cell_type": "markdown",
   "metadata": {},
   "source": [
    "## Filling Market Orders\n",
    "A market order is filled immediately using the corresponding book. If an order is divisible, then it may be only partly filled and the balance of the order is canceled. If the order is indivisible and it cannot be completely filled, then it is canceled."
   ]
  },
  {
   "cell_type": "markdown",
   "metadata": {},
   "source": [
    "### Examples"
   ]
  },
  {
   "cell_type": "markdown",
   "metadata": {},
   "source": [
    "The following example illustrates an indivisible market buy order."
   ]
  },
  {
   "cell_type": "code",
   "execution_count": 6,
   "metadata": {},
   "outputs": [
    {
     "name": "stdout",
     "output_type": "stream",
     "text": [
      "<order:13/BUYMARKET FILLED 1.0MWh for -12.5$>\n"
     ]
    },
    {
     "data": {
      "text/plain": [
       "{'sell': [[<matplotlib.lines.Line2D at 0x1105ca9b0>]],\n",
       " 'buy': [[<matplotlib.lines.Line2D at 0x110594a90>]],\n",
       " 'figure': <Figure size 432x288 with 1 Axes>,\n",
       " 'plot': <module 'matplotlib.pyplot' from '/usr/local/lib/python3.7/site-packages/matplotlib/pyplot.py'>}"
      ]
     },
     "execution_count": 6,
     "metadata": {},
     "output_type": "execute_result"
    },
    {
     "data": {
      "image/png": "[encoded data removed]",
      "text/plain": [
       "<Figure size 432x288 with 1 Axes>"
      ]
     },
     "metadata": {
      "needs_background": "light"
     },
     "output_type": "display_data"
    }
   ],
   "source": [
    "print(market.bid(quantity=1.0,duration=1.0))\n",
    "market.plot()"
   ]
  },
  {
   "cell_type": "markdown",
   "metadata": {},
   "source": [
    "The following example illustrates an market sell order."
   ]
  },
  {
   "cell_type": "code",
   "execution_count": 7,
   "metadata": {},
   "outputs": [
    {
     "name": "stdout",
     "output_type": "stream",
     "text": [
      "<order:14/SELLMARKET FILLED 1.0MWh for -5.0$>\n"
     ]
    },
    {
     "data": {
      "text/plain": [
       "{'sell': [[<matplotlib.lines.Line2D at 0x1106bfe80>]],\n",
       " 'buy': [[<matplotlib.lines.Line2D at 0x1106bffd0>]],\n",
       " 'figure': <Figure size 432x288 with 1 Axes>,\n",
       " 'plot': <module 'matplotlib.pyplot' from '/usr/local/lib/python3.7/site-packages/matplotlib/pyplot.py'>}"
      ]
     },
     "execution_count": 7,
     "metadata": {},
     "output_type": "execute_result"
    },
    {
     "data": {
      "image/png": "[encoded data removed]",
      "text/plain": [
       "<Figure size 432x288 with 1 Axes>"
      ]
     },
     "metadata": {
      "needs_background": "light"
     },
     "output_type": "display_data"
    }
   ],
   "source": [
    "print(market.ask(quantity=1.0,duration=1.0))\n",
    "market.plot()"
   ]
  },
  {
   "cell_type": "markdown",
   "metadata": {},
   "source": [
    "The following example illustrates an attempt to less than is required by the remaining buyer. "
   ]
  },
  {
   "cell_type": "code",
   "execution_count": 8,
   "metadata": {},
   "outputs": [
    {
     "name": "stdout",
     "output_type": "stream",
     "text": [
      "<order:15/CANCEL 1.0MW for 1.0h>\n"
     ]
    },
    {
     "data": {
      "text/plain": [
       "{'sell': [[<matplotlib.lines.Line2D at 0x1108255c0>]],\n",
       " 'buy': [[<matplotlib.lines.Line2D at 0x11077ad30>]],\n",
       " 'figure': <Figure size 432x288 with 1 Axes>,\n",
       " 'plot': <module 'matplotlib.pyplot' from '/usr/local/lib/python3.7/site-packages/matplotlib/pyplot.py'>}"
      ]
     },
     "execution_count": 8,
     "metadata": {},
     "output_type": "execute_result"
    },
    {
     "data": {
      "image/png": "[encoded data removed]",
      "text/plain": [
       "<Figure size 432x288 with 1 Axes>"
      ]
     },
     "metadata": {
      "needs_background": "light"
     },
     "output_type": "display_data"
    }
   ],
   "source": [
    "print(market.ask(quantity=1.0,duration=1.0))\n",
    "market.plot()"
   ]
  },
  {
   "cell_type": "markdown",
   "metadata": {},
   "source": [
    "# Order Duration\n",
    "\n",
    "When an order has mismatched duration, the dispatch must be updated when the time has elapsed.  For example, if seller A places an order with a duration of 30 minutes, while matched buyer B's order duration is 1 hour, then the buyer order must be rebooked to find a new matching seller for the unfilled balance of the 30 minutes.  Until the a new seller can be found the buyer's order must be suspended, and thus the buyer's order must be divisible."
   ]
  },
  {
   "cell_type": "markdown",
   "metadata": {},
   "source": [
    "### Examples"
   ]
  },
  {
   "cell_type": "code",
   "execution_count": 9,
   "metadata": {},
   "outputs": [],
   "source": [
    "# TODO\n"
   ]
  },
  {
   "cell_type": "markdown",
   "metadata": {},
   "source": [
    "# Ramping Services\n",
    "Up to this point we have described a real-time capacity dispatch market.  We now illustrate a real-time ramping services market."
   ]
  },
  {
   "cell_type": "markdown",
   "metadata": {},
   "source": [
    "## Examples"
   ]
  },
  {
   "cell_type": "markdown",
   "metadata": {},
   "source": [
    "The following example creates a ramping market and add limits orders to the market. Because the price unit is reduced from `$/(MW/h).h` to `$/MW`, the price unit is specified explicitly so that the default price unit is not used."
   ]
  },
  {
   "cell_type": "code",
   "execution_count": 10,
   "metadata": {},
   "outputs": [
    {
     "name": "stdout",
     "output_type": "stream",
     "text": [
      "{\"buy\": [{\"quantity\": 1.5, \"duration\": 1.0, \"price\": 8.0, \"id\": 19, \"ordertype\": \"BUYLIMIT\", \"amount\": 0.0, \"value\": 0.0, \"divisible\": false}, {\"quantity\": 1.0, \"duration\": 1.0, \"price\": 5.0, \"id\": 20, \"ordertype\": \"BUYLIMIT\", \"amount\": 0.0, \"value\": 0.0, \"divisible\": false}, {\"quantity\": 2.5, \"duration\": 1.0, \"price\": 2.0, \"id\": 21, \"ordertype\": \"BUYLIMIT\", \"amount\": 0.0, \"value\": 0.0, \"divisible\": false}], \"sell\": [{\"quantity\": 2.0, \"duration\": 1.0, \"price\": 10.0, \"id\": 16, \"ordertype\": \"SELLLIMIT\", \"amount\": 0.0, \"value\": 0.0, \"divisible\": true}, {\"quantity\": 1.0, \"duration\": 1.0, \"price\": 15.0, \"id\": 17, \"ordertype\": \"SELLLIMIT\", \"amount\": 0.0, \"value\": 0.0, \"divisible\": true}, {\"quantity\": 0.5, \"duration\": 1.0, \"price\": 20.0, \"id\": 18, \"ordertype\": \"SELLLIMIT\", \"amount\": 0.0, \"value\": 0.0, \"divisible\": true}], \"unit\": \"MW/h\", \"time\": \"h\", \"currency\": \"$\", \"price\": \"$/MW\", \"using\": [], \"fees\": 0.0, \"settled\": []}\n"
     ]
    },
    {
     "data": {
      "image/png": "[encoded data removed]",
      "text/plain": [
       "<Figure size 432x288 with 1 Axes>"
      ]
     },
     "metadata": {
      "needs_background": "light"
     },
     "output_type": "display_data"
    }
   ],
   "source": [
    "market = ob.orderbook(unit=\"MW/h\",price=\"$/MW\")\n",
    "market.ask(quantity=2.0, duration=1.0, price=10.0)\n",
    "market.ask(quantity=1.0, duration=1.0, price=15.0)\n",
    "market.ask(quantity=0.5, duration=1.0, price=20.0)\n",
    "market.bid(quantity=1.5, duration=1.0, price=8.0)\n",
    "market.bid(quantity=1.0, duration=1.0, price=5.0)\n",
    "market.bid(quantity=2.5, duration=1.0, price=2.0)\n",
    "print(market)\n",
    "graph = market.plot(using={\"grid\":\"\"})"
   ]
  },
  {
   "cell_type": "markdown",
   "metadata": {},
   "source": [
    "# Validation\n",
    "The following cases must be validated.\n",
    "- [ ] Sell limit order booking\n",
    "- [ ] Divisible buy limit order booking\n",
    "- [ ] Indivisible buy limit order booking\n",
    "- [ ] Divisible buy limit order fill with single sell order\n",
    "- [ ] Divisible buy limit order fill with multiple sell orders\n",
    "- [ ] Indivisible buy limit order fill with single sell order\n",
    "- [ ] Indivisible buy limit order fill with multiple sell orders\n",
    "- [ ] Sell limit order fill with single buy order\n",
    "- [ ] Sell limit order fill with multiple buy orders\n",
    "- [ ] Divisible buy market order fill\n",
    "- [ ] Indivisible buy market order fill\n",
    "- [ ] Divisible buy market order fill failure\n",
    "- [ ] Indivisible buy market order fill failure\n",
    "- [ ] Sell market order fill\n",
    "- [ ] Sell market order fill failure"
   ]
  },
  {
   "cell_type": "markdown",
   "metadata": {},
   "source": [
    "# Documentation"
   ]
  },
  {
   "cell_type": "code",
   "execution_count": 11,
   "metadata": {
    "scrolled": false
   },
   "outputs": [
    {
     "name": "stdout",
     "output_type": "stream",
     "text": [
      "Help on module orderbook:\n",
      "\n",
      "NAME\n",
      "    orderbook\n",
      "\n",
      "CLASSES\n",
      "    builtins.dict(builtins.object)\n",
      "        order\n",
      "    builtins.object\n",
      "        orderbook\n",
      "    builtins.str(builtins.object)\n",
      "        ordertype\n",
      "    \n",
      "    class order(builtins.dict)\n",
      "     |  order(**kwargs)\n",
      "     |  \n",
      "     |  Implementation of order\n",
      "     |  \n",
      "     |  Method resolution order:\n",
      "     |      order\n",
      "     |      builtins.dict\n",
      "     |      builtins.object\n",
      "     |  \n",
      "     |  Methods defined here:\n",
      "     |  \n",
      "     |  __init__(self, **kwargs)\n",
      "     |      Initialize self.  See help(type(self)) for accurate signature.\n",
      "     |  \n",
      "     |  __lt__(self, a)\n",
      "     |      Return self<value.\n",
      "     |  \n",
      "     |  __repr__(self)\n",
      "     |      Return repr(self).\n",
      "     |  \n",
      "     |  add_amount(self, x)\n",
      "     |      Add to order amount\n",
      "     |  \n",
      "     |  add_quantity(self, x)\n",
      "     |      Add to order quantity\n",
      "     |  \n",
      "     |  add_value(self, x)\n",
      "     |      Add to order value\n",
      "     |  \n",
      "     |  get_amount(self)\n",
      "     |      Get filled order amount\n",
      "     |  \n",
      "     |  get_currency(self)\n",
      "     |      Get the currency of the order\n",
      "     |  \n",
      "     |  get_duration(self)\n",
      "     |      Get order duration\n",
      "     |  \n",
      "     |  get_id(self)\n",
      "     |      Get order id\n",
      "     |  \n",
      "     |  get_ordertype(self)\n",
      "     |      Get order type\n",
      "     |  \n",
      "     |  get_price(self)\n",
      "     |      Get order price\n",
      "     |  \n",
      "     |  get_priceunit(self)\n",
      "     |      Get the price unit of the order\n",
      "     |  \n",
      "     |  get_quantity(self)\n",
      "     |      Get order quantity\n",
      "     |  \n",
      "     |  get_time(self)\n",
      "     |      Get the time duration unit of order\n",
      "     |  \n",
      "     |  get_unit(self)\n",
      "     |      Get the unit of the order\n",
      "     |  \n",
      "     |  get_value(self)\n",
      "     |      Get filled order value\n",
      "     |  \n",
      "     |  isbuy(self)\n",
      "     |      Test if buy order\n",
      "     |  \n",
      "     |  iscancel(self)\n",
      "     |      Test if order is cancelled\n",
      "     |  \n",
      "     |  isdivisible(self)\n",
      "     |      Get status of order divisibility\n",
      "     |  \n",
      "     |  islimit(self)\n",
      "     |      Test if limit order\n",
      "     |  \n",
      "     |  ismarket(self)\n",
      "     |      Test if market order\n",
      "     |  \n",
      "     |  issell(self)\n",
      "     |      Test if sell order\n",
      "     |  \n",
      "     |  set_cancel(self)\n",
      "     |      Cancel order\n",
      "     |  \n",
      "     |  set_market(self, market)\n",
      "     |      Set the market in which this order is placed\n",
      "     |  \n",
      "     |  set_price(self, x)\n",
      "     |      Set order price\n",
      "     |  \n",
      "     |  set_quantity(self, x)\n",
      "     |      Set order quantity\n",
      "     |  \n",
      "     |  ----------------------------------------------------------------------\n",
      "     |  Class methods defined here:\n",
      "     |  \n",
      "     |  get_next_id() from builtins.type\n",
      "     |      Get the next order id\n",
      "     |  \n",
      "     |  ----------------------------------------------------------------------\n",
      "     |  Data descriptors defined here:\n",
      "     |  \n",
      "     |  __dict__\n",
      "     |      dictionary for instance variables (if defined)\n",
      "     |  \n",
      "     |  __weakref__\n",
      "     |      list of weak references to the object (if defined)\n",
      "     |  \n",
      "     |  ----------------------------------------------------------------------\n",
      "     |  Data and other attributes defined here:\n",
      "     |  \n",
      "     |  next_id = 22\n",
      "     |  \n",
      "     |  ----------------------------------------------------------------------\n",
      "     |  Methods inherited from builtins.dict:\n",
      "     |  \n",
      "     |  __contains__(self, key, /)\n",
      "     |      True if the dictionary has the specified key, else False.\n",
      "     |  \n",
      "     |  __delitem__(self, key, /)\n",
      "     |      Delete self[key].\n",
      "     |  \n",
      "     |  __eq__(self, value, /)\n",
      "     |      Return self==value.\n",
      "     |  \n",
      "     |  __ge__(self, value, /)\n",
      "     |      Return self>=value.\n",
      "     |  \n",
      "     |  __getattribute__(self, name, /)\n",
      "     |      Return getattr(self, name).\n",
      "     |  \n",
      "     |  __getitem__(...)\n",
      "     |      x.__getitem__(y) <==> x[y]\n",
      "     |  \n",
      "     |  __gt__(self, value, /)\n",
      "     |      Return self>value.\n",
      "     |  \n",
      "     |  __iter__(self, /)\n",
      "     |      Implement iter(self).\n",
      "     |  \n",
      "     |  __le__(self, value, /)\n",
      "     |      Return self<=value.\n",
      "     |  \n",
      "     |  __len__(self, /)\n",
      "     |      Return len(self).\n",
      "     |  \n",
      "     |  __ne__(self, value, /)\n",
      "     |      Return self!=value.\n",
      "     |  \n",
      "     |  __setitem__(self, key, value, /)\n",
      "     |      Set self[key] to value.\n",
      "     |  \n",
      "     |  __sizeof__(...)\n",
      "     |      D.__sizeof__() -> size of D in memory, in bytes\n",
      "     |  \n",
      "     |  clear(...)\n",
      "     |      D.clear() -> None.  Remove all items from D.\n",
      "     |  \n",
      "     |  copy(...)\n",
      "     |      D.copy() -> a shallow copy of D\n",
      "     |  \n",
      "     |  get(self, key, default=None, /)\n",
      "     |      Return the value for key if key is in the dictionary, else default.\n",
      "     |  \n",
      "     |  items(...)\n",
      "     |      D.items() -> a set-like object providing a view on D's items\n",
      "     |  \n",
      "     |  keys(...)\n",
      "     |      D.keys() -> a set-like object providing a view on D's keys\n",
      "     |  \n",
      "     |  pop(...)\n",
      "     |      D.pop(k[,d]) -> v, remove specified key and return the corresponding value.\n",
      "     |      If key is not found, d is returned if given, otherwise KeyError is raised\n",
      "     |  \n",
      "     |  popitem(...)\n",
      "     |      D.popitem() -> (k, v), remove and return some (key, value) pair as a\n",
      "     |      2-tuple; but raise KeyError if D is empty.\n",
      "     |  \n",
      "     |  setdefault(self, key, default=None, /)\n",
      "     |      Insert key with a value of default if key is not in the dictionary.\n",
      "     |      \n",
      "     |      Return the value for key if key is in the dictionary, else default.\n",
      "     |  \n",
      "     |  update(...)\n",
      "     |      D.update([E, ]**F) -> None.  Update D from dict/iterable E and F.\n",
      "     |      If E is present and has a .keys() method, then does:  for k in E: D[k] = E[k]\n",
      "     |      If E is present and lacks a .keys() method, then does:  for k, v in E: D[k] = v\n",
      "     |      In either case, this is followed by: for k in F:  D[k] = F[k]\n",
      "     |  \n",
      "     |  values(...)\n",
      "     |      D.values() -> an object providing a view on D's values\n",
      "     |  \n",
      "     |  ----------------------------------------------------------------------\n",
      "     |  Class methods inherited from builtins.dict:\n",
      "     |  \n",
      "     |  fromkeys(iterable, value=None, /) from builtins.type\n",
      "     |      Create a new dictionary with keys from iterable and values set to value.\n",
      "     |  \n",
      "     |  ----------------------------------------------------------------------\n",
      "     |  Static methods inherited from builtins.dict:\n",
      "     |  \n",
      "     |  __new__(*args, **kwargs) from builtins.type\n",
      "     |      Create and return a new object.  See help(type) for accurate signature.\n",
      "     |  \n",
      "     |  ----------------------------------------------------------------------\n",
      "     |  Data and other attributes inherited from builtins.dict:\n",
      "     |  \n",
      "     |  __hash__ = None\n",
      "    \n",
      "    class orderbook(builtins.object)\n",
      "     |  orderbook(unit='MW', time='h', currency='$', price=None)\n",
      "     |  \n",
      "     |  Implementation of orderbook\n",
      "     |  \n",
      "     |  Methods defined here:\n",
      "     |  \n",
      "     |  __init__(self, unit='MW', time='h', currency='$', price=None)\n",
      "     |      Initialize self.  See help(type(self)) for accurate signature.\n",
      "     |  \n",
      "     |  __str__(self)\n",
      "     |      Return str(self).\n",
      "     |  \n",
      "     |  ask(self, quantity, duration, price=None)\n",
      "     |      Place a sell order\n",
      "     |  \n",
      "     |  bid(self, quantity, duration, price=None)\n",
      "     |      Plase a buy order\n",
      "     |  \n",
      "     |  clear(self)\n",
      "     |      Clear all matching limit orders\n",
      "     |  \n",
      "     |  find_buy(self, order)\n",
      "     |      Find a buy for a sell market order\n",
      "     |  \n",
      "     |  find_sell(self, order)\n",
      "     |      Find a sell for a buy market order\n",
      "     |  \n",
      "     |  plot(self, using=None)\n",
      "     |      Plot the current orderbooks\n",
      "     |  \n",
      "     |  reset(self)\n",
      "     |      Reset the market to initial values\n",
      "     |  \n",
      "     |  submit(self, order)\n",
      "     |      Submit an order to the market\n",
      "     |  \n",
      "     |  ----------------------------------------------------------------------\n",
      "     |  Data descriptors defined here:\n",
      "     |  \n",
      "     |  __dict__\n",
      "     |      dictionary for instance variables (if defined)\n",
      "     |  \n",
      "     |  __weakref__\n",
      "     |      list of weak references to the object (if defined)\n",
      "    \n",
      "    class ordertype(builtins.str)\n",
      "     |  ordertype(ordertype)\n",
      "     |  \n",
      "     |  Implementation of order type\n",
      "     |  \n",
      "     |  Method resolution order:\n",
      "     |      ordertype\n",
      "     |      builtins.str\n",
      "     |      builtins.object\n",
      "     |  \n",
      "     |  Methods defined here:\n",
      "     |  \n",
      "     |  isbuy(self)\n",
      "     |      Test if buy order\n",
      "     |  \n",
      "     |  iscancel(self)\n",
      "     |      Test if order is cancelled\n",
      "     |  \n",
      "     |  islimit(self)\n",
      "     |      Test if limit order\n",
      "     |  \n",
      "     |  ismarket(self)\n",
      "     |      Test if market order\n",
      "     |  \n",
      "     |  issell(self)\n",
      "     |      Test if sell order\n",
      "     |  \n",
      "     |  ----------------------------------------------------------------------\n",
      "     |  Static methods defined here:\n",
      "     |  \n",
      "     |  __new__(cls, ordertype)\n",
      "     |      Create and return a new object.  See help(type) for accurate signature.\n",
      "     |  \n",
      "     |  ----------------------------------------------------------------------\n",
      "     |  Data descriptors defined here:\n",
      "     |  \n",
      "     |  __dict__\n",
      "     |      dictionary for instance variables (if defined)\n",
      "     |  \n",
      "     |  __weakref__\n",
      "     |      list of weak references to the object (if defined)\n",
      "     |  \n",
      "     |  ----------------------------------------------------------------------\n",
      "     |  Methods inherited from builtins.str:\n",
      "     |  \n",
      "     |  __add__(self, value, /)\n",
      "     |      Return self+value.\n",
      "     |  \n",
      "     |  __contains__(self, key, /)\n",
      "     |      Return key in self.\n",
      "     |  \n",
      "     |  __eq__(self, value, /)\n",
      "     |      Return self==value.\n",
      "     |  \n",
      "     |  __format__(self, format_spec, /)\n",
      "     |      Return a formatted version of the string as described by format_spec.\n",
      "     |  \n",
      "     |  __ge__(self, value, /)\n",
      "     |      Return self>=value.\n",
      "     |  \n",
      "     |  __getattribute__(self, name, /)\n",
      "     |      Return getattr(self, name).\n",
      "     |  \n",
      "     |  __getitem__(self, key, /)\n",
      "     |      Return self[key].\n",
      "     |  \n",
      "     |  __getnewargs__(...)\n",
      "     |  \n",
      "     |  __gt__(self, value, /)\n",
      "     |      Return self>value.\n",
      "     |  \n",
      "     |  __hash__(self, /)\n",
      "     |      Return hash(self).\n",
      "     |  \n",
      "     |  __iter__(self, /)\n",
      "     |      Implement iter(self).\n",
      "     |  \n",
      "     |  __le__(self, value, /)\n",
      "     |      Return self<=value.\n",
      "     |  \n",
      "     |  __len__(self, /)\n",
      "     |      Return len(self).\n",
      "     |  \n",
      "     |  __lt__(self, value, /)\n",
      "     |      Return self<value.\n",
      "     |  \n",
      "     |  __mod__(self, value, /)\n",
      "     |      Return self%value.\n",
      "     |  \n",
      "     |  __mul__(self, value, /)\n",
      "     |      Return self*value.\n",
      "     |  \n",
      "     |  __ne__(self, value, /)\n",
      "     |      Return self!=value.\n",
      "     |  \n",
      "     |  __repr__(self, /)\n",
      "     |      Return repr(self).\n",
      "     |  \n",
      "     |  __rmod__(self, value, /)\n",
      "     |      Return value%self.\n",
      "     |  \n",
      "     |  __rmul__(self, value, /)\n",
      "     |      Return value*self.\n",
      "     |  \n",
      "     |  __sizeof__(self, /)\n",
      "     |      Return the size of the string in memory, in bytes.\n",
      "     |  \n",
      "     |  __str__(self, /)\n",
      "     |      Return str(self).\n",
      "     |  \n",
      "     |  capitalize(self, /)\n",
      "     |      Return a capitalized version of the string.\n",
      "     |      \n",
      "     |      More specifically, make the first character have upper case and the rest lower\n",
      "     |      case.\n",
      "     |  \n",
      "     |  casefold(self, /)\n",
      "     |      Return a version of the string suitable for caseless comparisons.\n",
      "     |  \n",
      "     |  center(self, width, fillchar=' ', /)\n",
      "     |      Return a centered string of length width.\n",
      "     |      \n",
      "     |      Padding is done using the specified fill character (default is a space).\n",
      "     |  \n",
      "     |  count(...)\n",
      "     |      S.count(sub[, start[, end]]) -> int\n",
      "     |      \n",
      "     |      Return the number of non-overlapping occurrences of substring sub in\n",
      "     |      string S[start:end].  Optional arguments start and end are\n",
      "     |      interpreted as in slice notation.\n",
      "     |  \n",
      "     |  encode(self, /, encoding='utf-8', errors='strict')\n",
      "     |      Encode the string using the codec registered for encoding.\n",
      "     |      \n",
      "     |      encoding\n",
      "     |        The encoding in which to encode the string.\n",
      "     |      errors\n",
      "     |        The error handling scheme to use for encoding errors.\n",
      "     |        The default is 'strict' meaning that encoding errors raise a\n",
      "     |        UnicodeEncodeError.  Other possible values are 'ignore', 'replace' and\n",
      "     |        'xmlcharrefreplace' as well as any other name registered with\n",
      "     |        codecs.register_error that can handle UnicodeEncodeErrors.\n",
      "     |  \n",
      "     |  endswith(...)\n",
      "     |      S.endswith(suffix[, start[, end]]) -> bool\n",
      "     |      \n",
      "     |      Return True if S ends with the specified suffix, False otherwise.\n",
      "     |      With optional start, test S beginning at that position.\n",
      "     |      With optional end, stop comparing S at that position.\n",
      "     |      suffix can also be a tuple of strings to try.\n",
      "     |  \n",
      "     |  expandtabs(self, /, tabsize=8)\n",
      "     |      Return a copy where all tab characters are expanded using spaces.\n",
      "     |      \n",
      "     |      If tabsize is not given, a tab size of 8 characters is assumed.\n",
      "     |  \n",
      "     |  find(...)\n",
      "     |      S.find(sub[, start[, end]]) -> int\n",
      "     |      \n",
      "     |      Return the lowest index in S where substring sub is found,\n",
      "     |      such that sub is contained within S[start:end].  Optional\n",
      "     |      arguments start and end are interpreted as in slice notation.\n",
      "     |      \n",
      "     |      Return -1 on failure.\n",
      "     |  \n",
      "     |  format(...)\n",
      "     |      S.format(*args, **kwargs) -> str\n",
      "     |      \n",
      "     |      Return a formatted version of S, using substitutions from args and kwargs.\n",
      "     |      The substitutions are identified by braces ('{' and '}').\n",
      "     |  \n",
      "     |  format_map(...)\n",
      "     |      S.format_map(mapping) -> str\n",
      "     |      \n",
      "     |      Return a formatted version of S, using substitutions from mapping.\n",
      "     |      The substitutions are identified by braces ('{' and '}').\n",
      "     |  \n",
      "     |  index(...)\n",
      "     |      S.index(sub[, start[, end]]) -> int\n",
      "     |      \n",
      "     |      Return the lowest index in S where substring sub is found, \n",
      "     |      such that sub is contained within S[start:end].  Optional\n",
      "     |      arguments start and end are interpreted as in slice notation.\n",
      "     |      \n",
      "     |      Raises ValueError when the substring is not found.\n",
      "     |  \n",
      "     |  isalnum(self, /)\n",
      "     |      Return True if the string is an alpha-numeric string, False otherwise.\n",
      "     |      \n",
      "     |      A string is alpha-numeric if all characters in the string are alpha-numeric and\n",
      "     |      there is at least one character in the string.\n",
      "     |  \n",
      "     |  isalpha(self, /)\n",
      "     |      Return True if the string is an alphabetic string, False otherwise.\n",
      "     |      \n",
      "     |      A string is alphabetic if all characters in the string are alphabetic and there\n",
      "     |      is at least one character in the string.\n",
      "     |  \n",
      "     |  isascii(self, /)\n",
      "     |      Return True if all characters in the string are ASCII, False otherwise.\n",
      "     |      \n",
      "     |      ASCII characters have code points in the range U+0000-U+007F.\n",
      "     |      Empty string is ASCII too.\n",
      "     |  \n",
      "     |  isdecimal(self, /)\n",
      "     |      Return True if the string is a decimal string, False otherwise.\n",
      "     |      \n",
      "     |      A string is a decimal string if all characters in the string are decimal and\n",
      "     |      there is at least one character in the string.\n",
      "     |  \n",
      "     |  isdigit(self, /)\n",
      "     |      Return True if the string is a digit string, False otherwise.\n",
      "     |      \n",
      "     |      A string is a digit string if all characters in the string are digits and there\n",
      "     |      is at least one character in the string.\n",
      "     |  \n",
      "     |  isidentifier(self, /)\n",
      "     |      Return True if the string is a valid Python identifier, False otherwise.\n",
      "     |      \n",
      "     |      Use keyword.iskeyword() to test for reserved identifiers such as \"def\" and\n",
      "     |      \"class\".\n",
      "     |  \n",
      "     |  islower(self, /)\n",
      "     |      Return True if the string is a lowercase string, False otherwise.\n",
      "     |      \n",
      "     |      A string is lowercase if all cased characters in the string are lowercase and\n",
      "     |      there is at least one cased character in the string.\n",
      "     |  \n",
      "     |  isnumeric(self, /)\n",
      "     |      Return True if the string is a numeric string, False otherwise.\n",
      "     |      \n",
      "     |      A string is numeric if all characters in the string are numeric and there is at\n",
      "     |      least one character in the string.\n",
      "     |  \n",
      "     |  isprintable(self, /)\n",
      "     |      Return True if the string is printable, False otherwise.\n",
      "     |      \n",
      "     |      A string is printable if all of its characters are considered printable in\n",
      "     |      repr() or if it is empty.\n",
      "     |  \n",
      "     |  isspace(self, /)\n",
      "     |      Return True if the string is a whitespace string, False otherwise.\n",
      "     |      \n",
      "     |      A string is whitespace if all characters in the string are whitespace and there\n",
      "     |      is at least one character in the string.\n",
      "     |  \n",
      "     |  istitle(self, /)\n",
      "     |      Return True if the string is a title-cased string, False otherwise.\n",
      "     |      \n",
      "     |      In a title-cased string, upper- and title-case characters may only\n",
      "     |      follow uncased characters and lowercase characters only cased ones.\n",
      "     |  \n",
      "     |  isupper(self, /)\n",
      "     |      Return True if the string is an uppercase string, False otherwise.\n",
      "     |      \n",
      "     |      A string is uppercase if all cased characters in the string are uppercase and\n",
      "     |      there is at least one cased character in the string.\n",
      "     |  \n",
      "     |  join(self, iterable, /)\n",
      "     |      Concatenate any number of strings.\n",
      "     |      \n",
      "     |      The string whose method is called is inserted in between each given string.\n",
      "     |      The result is returned as a new string.\n",
      "     |      \n",
      "     |      Example: '.'.join(['ab', 'pq', 'rs']) -> 'ab.pq.rs'\n",
      "     |  \n",
      "     |  ljust(self, width, fillchar=' ', /)\n",
      "     |      Return a left-justified string of length width.\n",
      "     |      \n",
      "     |      Padding is done using the specified fill character (default is a space).\n",
      "     |  \n",
      "     |  lower(self, /)\n",
      "     |      Return a copy of the string converted to lowercase.\n",
      "     |  \n",
      "     |  lstrip(self, chars=None, /)\n",
      "     |      Return a copy of the string with leading whitespace removed.\n",
      "     |      \n",
      "     |      If chars is given and not None, remove characters in chars instead.\n",
      "     |  \n",
      "     |  partition(self, sep, /)\n",
      "     |      Partition the string into three parts using the given separator.\n",
      "     |      \n",
      "     |      This will search for the separator in the string.  If the separator is found,\n",
      "     |      returns a 3-tuple containing the part before the separator, the separator\n",
      "     |      itself, and the part after it.\n",
      "     |      \n",
      "     |      If the separator is not found, returns a 3-tuple containing the original string\n",
      "     |      and two empty strings.\n",
      "     |  \n",
      "     |  replace(self, old, new, count=-1, /)\n",
      "     |      Return a copy with all occurrences of substring old replaced by new.\n",
      "     |      \n",
      "     |        count\n",
      "     |          Maximum number of occurrences to replace.\n",
      "     |          -1 (the default value) means replace all occurrences.\n",
      "     |      \n",
      "     |      If the optional argument count is given, only the first count occurrences are\n",
      "     |      replaced.\n",
      "     |  \n",
      "     |  rfind(...)\n",
      "     |      S.rfind(sub[, start[, end]]) -> int\n",
      "     |      \n",
      "     |      Return the highest index in S where substring sub is found,\n",
      "     |      such that sub is contained within S[start:end].  Optional\n",
      "     |      arguments start and end are interpreted as in slice notation.\n",
      "     |      \n",
      "     |      Return -1 on failure.\n",
      "     |  \n",
      "     |  rindex(...)\n",
      "     |      S.rindex(sub[, start[, end]]) -> int\n",
      "     |      \n",
      "     |      Return the highest index in S where substring sub is found,\n",
      "     |      such that sub is contained within S[start:end].  Optional\n",
      "     |      arguments start and end are interpreted as in slice notation.\n",
      "     |      \n",
      "     |      Raises ValueError when the substring is not found.\n",
      "     |  \n",
      "     |  rjust(self, width, fillchar=' ', /)\n",
      "     |      Return a right-justified string of length width.\n",
      "     |      \n",
      "     |      Padding is done using the specified fill character (default is a space).\n",
      "     |  \n",
      "     |  rpartition(self, sep, /)\n",
      "     |      Partition the string into three parts using the given separator.\n",
      "     |      \n",
      "     |      This will search for the separator in the string, starting at the end. If\n",
      "     |      the separator is found, returns a 3-tuple containing the part before the\n",
      "     |      separator, the separator itself, and the part after it.\n",
      "     |      \n",
      "     |      If the separator is not found, returns a 3-tuple containing two empty strings\n",
      "     |      and the original string.\n",
      "     |  \n",
      "     |  rsplit(self, /, sep=None, maxsplit=-1)\n",
      "     |      Return a list of the words in the string, using sep as the delimiter string.\n",
      "     |      \n",
      "     |        sep\n",
      "     |          The delimiter according which to split the string.\n",
      "     |          None (the default value) means split according to any whitespace,\n",
      "     |          and discard empty strings from the result.\n",
      "     |        maxsplit\n",
      "     |          Maximum number of splits to do.\n",
      "     |          -1 (the default value) means no limit.\n",
      "     |      \n",
      "     |      Splits are done starting at the end of the string and working to the front.\n",
      "     |  \n",
      "     |  rstrip(self, chars=None, /)\n",
      "     |      Return a copy of the string with trailing whitespace removed.\n",
      "     |      \n",
      "     |      If chars is given and not None, remove characters in chars instead.\n",
      "     |  \n",
      "     |  split(self, /, sep=None, maxsplit=-1)\n",
      "     |      Return a list of the words in the string, using sep as the delimiter string.\n",
      "     |      \n",
      "     |      sep\n",
      "     |        The delimiter according which to split the string.\n",
      "     |        None (the default value) means split according to any whitespace,\n",
      "     |        and discard empty strings from the result.\n",
      "     |      maxsplit\n",
      "     |        Maximum number of splits to do.\n",
      "     |        -1 (the default value) means no limit.\n",
      "     |  \n",
      "     |  splitlines(self, /, keepends=False)\n",
      "     |      Return a list of the lines in the string, breaking at line boundaries.\n",
      "     |      \n",
      "     |      Line breaks are not included in the resulting list unless keepends is given and\n",
      "     |      true.\n",
      "     |  \n",
      "     |  startswith(...)\n",
      "     |      S.startswith(prefix[, start[, end]]) -> bool\n",
      "     |      \n",
      "     |      Return True if S starts with the specified prefix, False otherwise.\n",
      "     |      With optional start, test S beginning at that position.\n",
      "     |      With optional end, stop comparing S at that position.\n",
      "     |      prefix can also be a tuple of strings to try.\n",
      "     |  \n",
      "     |  strip(self, chars=None, /)\n",
      "     |      Return a copy of the string with leading and trailing whitespace remove.\n",
      "     |      \n",
      "     |      If chars is given and not None, remove characters in chars instead.\n",
      "     |  \n",
      "     |  swapcase(self, /)\n",
      "     |      Convert uppercase characters to lowercase and lowercase characters to uppercase.\n",
      "     |  \n",
      "     |  title(self, /)\n",
      "     |      Return a version of the string where each word is titlecased.\n",
      "     |      \n",
      "     |      More specifically, words start with uppercased characters and all remaining\n",
      "     |      cased characters have lower case.\n",
      "     |  \n",
      "     |  translate(self, table, /)\n",
      "     |      Replace each character in the string using the given translation table.\n",
      "     |      \n",
      "     |        table\n",
      "     |          Translation table, which must be a mapping of Unicode ordinals to\n",
      "     |          Unicode ordinals, strings, or None.\n",
      "     |      \n",
      "     |      The table must implement lookup/indexing via __getitem__, for instance a\n",
      "     |      dictionary or list.  If this operation raises LookupError, the character is\n",
      "     |      left untouched.  Characters mapped to None are deleted.\n",
      "     |  \n",
      "     |  upper(self, /)\n",
      "     |      Return a copy of the string converted to uppercase.\n",
      "     |  \n",
      "     |  zfill(self, width, /)\n",
      "     |      Pad a numeric string with zeros on the left, to fill a field of the given width.\n",
      "     |      \n",
      "     |      The string is never truncated.\n",
      "     |  \n",
      "     |  ----------------------------------------------------------------------\n",
      "     |  Static methods inherited from builtins.str:\n",
      "     |  \n",
      "     |  maketrans(x, y=None, z=None, /)\n",
      "     |      Return a translation table usable for str.translate().\n",
      "     |      \n",
      "     |      If there is only one argument, it must be a dictionary mapping Unicode\n",
      "     |      ordinals (integers) or characters to Unicode ordinals, strings or None.\n",
      "     |      Character keys will be then converted to ordinals.\n",
      "     |      If there are two arguments, they must be strings of equal length, and\n",
      "     |      in the resulting dictionary, each character in x will be mapped to the\n",
      "     |      character at the same position in y. If there is a third argument, it\n",
      "     |      must be a string, whose characters will be mapped to None in the result.\n",
      "\n",
      "FUNCTIONS\n",
      "    print_debug(msg)\n",
      "        Print a debug message (module.debug must be True)\n",
      "    \n",
      "    print_message(msg, msgtype='MESSAGE')\n",
      "        Print a message\n",
      "    \n",
      "    print_warning(msg)\n",
      "        Print a warning message (module.warning must be True)\n",
      "\n",
      "DATA\n",
      "    debug = False\n",
      "    warning = True\n",
      "\n",
      "FILE\n",
      "    /Users/dchassin/github/gridlabd/transactive/orderbook.py\n",
      "\n",
      "\n"
     ]
    }
   ],
   "source": [
    "help('orderbook')"
   ]
  },
  {
   "cell_type": "code",
   "execution_count": null,
   "metadata": {},
   "outputs": [],
   "source": []
  }
 ],
 "metadata": {
  "kernelspec": {
   "display_name": "Python 3",
   "language": "python",
   "name": "python3"
  },
  "language_info": {
   "codemirror_mode": {
    "name": "ipython",
    "version": 3
   },
   "file_extension": ".py",
   "mimetype": "text/x-python",
   "name": "python",
   "nbconvert_exporter": "python",
   "pygments_lexer": "ipython3",
   "version": "3.7.2"
  }
 },
 "nbformat": 4,
 "nbformat_minor": 2
}
